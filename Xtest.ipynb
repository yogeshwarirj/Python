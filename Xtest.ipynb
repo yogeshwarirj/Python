{
 "cells": [
  {
   "cell_type": "code",
   "execution_count": 1,
   "id": "f51381e1-68af-4cd9-adfd-d31def320e96",
   "metadata": {},
   "outputs": [
    {
     "name": "stdout",
     "output_type": "stream",
     "text": [
      "x\n"
     ]
    }
   ],
   "source": [
    "print(\"x\")"
   ]
  },
  {
   "cell_type": "code",
   "execution_count": 1,
   "id": "a530512f-0220-47db-b423-e216256f0d34",
   "metadata": {},
   "outputs": [],
   "source": [
    "#Amrita Checking\n"
   ]
  },
  {
   "cell_type": "code",
   "execution_count": 1,
   "id": "a5a8fa86",
   "metadata": {},
   "outputs": [],
   "source": [
    "# Jyoti Checked\n"
   ]
  },
  {
   "cell_type": "code",
   "execution_count": null,
   "id": "985cd079-785e-4193-91fb-e8e49fdfe03d",
   "metadata": {},
   "outputs": [],
   "source": [
    "# Bhavya checked"
   ]
  }
 ],
 "metadata": {
  "kernelspec": {
   "display_name": "Python 3 (ipykernel)",
   "language": "python",
   "name": "python3"
  },
  "language_info": {
   "codemirror_mode": {
    "name": "ipython",
    "version": 3
   },
   "file_extension": ".py",
   "mimetype": "text/x-python",
   "name": "python",
   "nbconvert_exporter": "python",
   "pygments_lexer": "ipython3",
   "version": "3.11.7"
  }
 },
 "nbformat": 4,
 "nbformat_minor": 5
}
